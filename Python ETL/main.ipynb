{
 "cells": [
  {
   "cell_type": "code",
   "execution_count": null,
   "metadata": {},
   "outputs": [],
   "source": [
    "! pip install SQLAlchemy==2.0.29"
   ]
  },
  {
   "cell_type": "markdown",
   "metadata": {},
   "source": [
    "INSTAMOS CON PIP"
   ]
  },
  {
   "cell_type": "code",
   "execution_count": null,
   "metadata": {},
   "outputs": [],
   "source": [
    "! pip install SQLAlchemy==2.0.29"
   ]
  },
  {
   "cell_type": "code",
   "execution_count": null,
   "metadata": {},
   "outputs": [],
   "source": [
    "! pip install mysql-connector-python==8.3.0\n"
   ]
  },
  {
   "cell_type": "code",
   "execution_count": null,
   "metadata": {},
   "outputs": [],
   "source": [
    "! pip install mysqlclient==2.2.4"
   ]
  },
  {
   "cell_type": "code",
   "execution_count": null,
   "metadata": {},
   "outputs": [],
   "source": [
    "! pip install pandas"
   ]
  },
  {
   "cell_type": "markdown",
   "metadata": {},
   "source": [
    "IMPORTAMOS LAS LIBERIAS "
   ]
  },
  {
   "cell_type": "code",
   "execution_count": null,
   "metadata": {},
   "outputs": [],
   "source": [
    "import pandas as pd\n",
    "import sqlalchemy as db\n",
    "from sqlalchemy import text\n",
    "from  utils import connection as con\n",
    "from etl import extraccion as ex\n",
    "from etl import carga\n",
    "from datetime import date"
   ]
  },
  {
   "cell_type": "code",
   "execution_count": null,
   "metadata": {},
   "outputs": [],
   "source": [
    "conn_cyber_db = con.connect_cyber_db()\n",
    "conn_dw_cyber = con.connect_dw_cyber()"
   ]
  },
  {
   "cell_type": "markdown",
   "metadata": {},
   "source": [
    "HACEMOS LA EXTRACCION DE LAS TABLAS OLTP"
   ]
  },
  {
   "cell_type": "code",
   "execution_count": null,
   "metadata": {},
   "outputs": [],
   "source": [
    "df_caja = ex.extract_table(\"caja\", conn_cyber_db)\n",
    "df_operadores= ex.extract_table(\"operadores\", conn_cyber_db)\n",
    "df_categoriascaja = ex.extract_table(\"categoriascaja\", conn_cyber_db)\n",
    "df_movimientoscaja = ex.extract_table(\"movimientoscaja\", conn_cyber_db)\n"
   ]
  },
  {
   "cell_type": "markdown",
   "metadata": {},
   "source": [
    "INSERTAMOS A LA DIMENSION CAJA"
   ]
  },
  {
   "cell_type": "code",
   "execution_count": null,
   "metadata": {},
   "outputs": [],
   "source": [
    "df_caja = df_caja.rename(columns={'fechacaja': 'fecha_caja','fechacierre': 'fecha_cierre' })\n",
    "df_caja.head()"
   ]
  },
  {
   "cell_type": "code",
   "execution_count": null,
   "metadata": {},
   "outputs": [],
   "source": [
    "carga.load_dw_cyber('dim_caja',conn_dw_cyber, df_caja)"
   ]
  },
  {
   "cell_type": "markdown",
   "metadata": {},
   "source": [
    "INSERTAMOS A LA DIMENSION OPERADOR"
   ]
  },
  {
   "cell_type": "code",
   "execution_count": null,
   "metadata": {},
   "outputs": [],
   "source": [
    "df_operadores = df_operadores.rename(columns={'Permisos': 'permiso'})\n",
    "df_operadores.head()"
   ]
  },
  {
   "cell_type": "code",
   "execution_count": null,
   "metadata": {},
   "outputs": [],
   "source": [
    "carga.load_dw_cyber('dim_operador',conn_dw_cyber, df_operadores)"
   ]
  },
  {
   "cell_type": "markdown",
   "metadata": {},
   "source": [
    "INSERTAMOS DIMENSION CATEGORIA CAJA"
   ]
  },
  {
   "cell_type": "code",
   "execution_count": null,
   "metadata": {},
   "outputs": [],
   "source": [
    "df_categoriascaja.head()"
   ]
  },
  {
   "cell_type": "code",
   "execution_count": null,
   "metadata": {},
   "outputs": [],
   "source": [
    "query = \"\"\"\n",
    "SELECT Codigo, id, fijo, tipo, Nombre, NOW() fecha_carga FROM cyber.categoriascaja\n",
    "\"\"\""
   ]
  },
  {
   "cell_type": "code",
   "execution_count": null,
   "metadata": {},
   "outputs": [],
   "source": [
    "categoriascaja_data=pd.read_sql(query,con=conn_cyber_db)\n",
    "categoriascaja_data.head()"
   ]
  },
  {
   "cell_type": "code",
   "execution_count": null,
   "metadata": {},
   "outputs": [],
   "source": [
    "carga.load_dw_cyber('dim_categoriacaja',conn_dw_cyber, categoriascaja_data)"
   ]
  },
  {
   "cell_type": "markdown",
   "metadata": {},
   "source": [
    "INSERTAMOS LA DIM TIEMPO"
   ]
  },
  {
   "cell_type": "code",
   "execution_count": null,
   "metadata": {},
   "outputs": [],
   "source": [
    "query_time =\"\"\"\n",
    "SELECT\n",
    "    DISTINCT DATE_FORMAT(A.FECHA, '%%Y%%m%%d') AS FECHA\n",
    "    ,DATE(A.FECHA) AS DATE\n",
    "    ,YEAR(A.FECHA) AS year\n",
    "    ,QUARTER(A.FECHA) AS quarter\n",
    "    ,MONTH(A.FECHA) AS month\n",
    "    ,DAY(A.FECHA) AS day\n",
    "    ,DAYOFWEEK(A.FECHA) AS day_of_week\n",
    "    ,DAYOFYEAR(A.FECHA) AS day_of_year\n",
    "    ,WEEK(A.FECHA) AS week_of_year\n",
    "    ,CASE WHEN DAYOFWEEK(A.FECHA) IN (1,7) THEN TRUE ELSE FALSE END AS is_weekend\n",
    "FROM CYBER.movimientoscaja  A \n",
    "\"\"\""
   ]
  },
  {
   "cell_type": "code",
   "execution_count": null,
   "metadata": {},
   "outputs": [],
   "source": [
    "tiempo_data=pd.read_sql(query_time,con=conn_cyber_db)\n",
    "tiempo_data.head()"
   ]
  },
  {
   "cell_type": "code",
   "execution_count": null,
   "metadata": {},
   "outputs": [],
   "source": [
    "carga.load_dw_cyber('dim_tiempo',conn_dw_cyber, tiempo_data)"
   ]
  },
  {
   "cell_type": "markdown",
   "metadata": {},
   "source": [
    "INSERTAMOS O CARAGAMOS LA TABLA DE HECHO"
   ]
  },
  {
   "cell_type": "code",
   "execution_count": null,
   "metadata": {},
   "outputs": [],
   "source": [
    "query =\"\"\"\n",
    " SELECT DATE_FORMAT(mov.Fecha, '%%Y%%m%%d') AS dim_tiempo_fecha\n",
    "      , COALESCE(ope.idw_operador,0) as dim_operador_idw_operador\n",
    "      , COALESCE(catc.idw_catcaja,0) as dim_categoriacaja_idw_catcaja\n",
    "      , COALESCE(caj.idw_caja,0) as dim_caja_idw_caja\n",
    "      , mov.Movimiento  as importe_movimiento\n",
    "      , case when mov.Movimiento >=0 then  mov.Movimiento else 0 end as importe_positivo\n",
    "      , case when mov.Movimiento <0 then  mov.Movimiento else 0 end as importe_negativo\n",
    "      , mov.Cantidad\n",
    "      , mov.Concepto\n",
    "      , 1 as cantidad_reg\n",
    "      ,now() fecha_carga      \n",
    "  FROM CYBER.movimientoscaja mov\n",
    "  left join dwh_lancenter.dim_operador ope on (mov.Operador=ope.nombre)\n",
    "  left join dwh_lancenter.dim_categoriacaja catc on (mov.codcategoria=catc.codigo)\n",
    "  left join dwh_lancenter.dim_caja caj on (mov.ncaja=caj.ncaja)\n",
    "\"\"\""
   ]
  },
  {
   "cell_type": "code",
   "execution_count": null,
   "metadata": {},
   "outputs": [],
   "source": [
    "fact_mov_data=pd.read_sql(query,con=conn_dw_cyber)\n",
    "fact_mov_data.head()"
   ]
  },
  {
   "cell_type": "code",
   "execution_count": null,
   "metadata": {},
   "outputs": [],
   "source": [
    "fact_mov_data.to_sql('fact_movimiento_caja',conn_dw_cyber, if_exists='append', index=False)"
   ]
  },
  {
   "cell_type": "markdown",
   "metadata": {},
   "source": [
    "RESOLVIENDO 5 CONSULTAS CON RESPECTO A MODELO OLAP\n",
    "\n"
   ]
  },
  {
   "cell_type": "code",
   "execution_count": 85,
   "metadata": {},
   "outputs": [],
   "source": [
    "#-- top operadores que generan mas importe al Lan center año actual\n",
    "query1= \"\"\"\n",
    "select dt.year,  doper.nombre, sum(fm.importe_positivo) importe\n",
    "from dwh_lancenter.fact_movimiento_caja fm\n",
    "left join dwh_lancenter.dim_operador doper on (fm.dim_operador_idw_operador=doper.idw_operador)\n",
    "left join dwh_lancenter.dim_tiempo dt on (dt.fecha=fm.dim_tiempo_fecha)\n",
    "where dt.year='2024'\n",
    "group by dt.year,  doper.nombre\n",
    "order by 3 desc\n",
    "\"\"\""
   ]
  },
  {
   "cell_type": "code",
   "execution_count": 86,
   "metadata": {},
   "outputs": [
    {
     "data": {
      "text/html": [
       "<div>\n",
       "<style scoped>\n",
       "    .dataframe tbody tr th:only-of-type {\n",
       "        vertical-align: middle;\n",
       "    }\n",
       "\n",
       "    .dataframe tbody tr th {\n",
       "        vertical-align: top;\n",
       "    }\n",
       "\n",
       "    .dataframe thead th {\n",
       "        text-align: right;\n",
       "    }\n",
       "</style>\n",
       "<table border=\"1\" class=\"dataframe\">\n",
       "  <thead>\n",
       "    <tr style=\"text-align: right;\">\n",
       "      <th></th>\n",
       "      <th>year</th>\n",
       "      <th>nombre</th>\n",
       "      <th>importe</th>\n",
       "    </tr>\n",
       "  </thead>\n",
       "  <tbody>\n",
       "    <tr>\n",
       "      <th>0</th>\n",
       "      <td>2024</td>\n",
       "      <td>Jhessy</td>\n",
       "      <td>11468.5</td>\n",
       "    </tr>\n",
       "    <tr>\n",
       "      <th>1</th>\n",
       "      <td>2024</td>\n",
       "      <td>Dennis</td>\n",
       "      <td>8142.6</td>\n",
       "    </tr>\n",
       "    <tr>\n",
       "      <th>2</th>\n",
       "      <td>2024</td>\n",
       "      <td>Juan</td>\n",
       "      <td>3468.0</td>\n",
       "    </tr>\n",
       "    <tr>\n",
       "      <th>3</th>\n",
       "      <td>2024</td>\n",
       "      <td>Daniel21</td>\n",
       "      <td>2878.5</td>\n",
       "    </tr>\n",
       "    <tr>\n",
       "      <th>4</th>\n",
       "      <td>2024</td>\n",
       "      <td>Ariel</td>\n",
       "      <td>547.5</td>\n",
       "    </tr>\n",
       "    <tr>\n",
       "      <th>5</th>\n",
       "      <td>2024</td>\n",
       "      <td>Mary</td>\n",
       "      <td>247.4</td>\n",
       "    </tr>\n",
       "  </tbody>\n",
       "</table>\n",
       "</div>"
      ],
      "text/plain": [
       "   year    nombre  importe\n",
       "0  2024    Jhessy  11468.5\n",
       "1  2024    Dennis   8142.6\n",
       "2  2024      Juan   3468.0\n",
       "3  2024  Daniel21   2878.5\n",
       "4  2024     Ariel    547.5\n",
       "5  2024      Mary    247.4"
      ]
     },
     "execution_count": 86,
     "metadata": {},
     "output_type": "execute_result"
    }
   ],
   "source": [
    "query1_df=pd.read_sql(query1,con=conn_dw_cyber)\n",
    "query1_df"
   ]
  },
  {
   "cell_type": "code",
   "execution_count": 87,
   "metadata": {},
   "outputs": [],
   "source": [
    "#-- en que categoria caja se generean mas importes negativos \n",
    "\n",
    "query2= \"\"\"select dt.year, dc.nombre as categoria_caja, sum(fm.importe_negativo) as importe_negativo\n",
    "from dwh_lancenter.fact_movimiento_caja fm\n",
    "left join dwh_lancenter.dim_categoriacaja dc  on (dc.idw_catcaja=fm.dim_categoriacaja_idw_catcaja)\n",
    "left join dwh_lancenter.dim_tiempo dt on (dt.fecha=fm.dim_tiempo_fecha)\n",
    "where dt.year>='2023'\n",
    "and fm.importe_negativo<0\n",
    "group by dt.year, dc.nombre\n",
    "order by 3 asc\n",
    "\"\"\""
   ]
  },
  {
   "cell_type": "code",
   "execution_count": 88,
   "metadata": {},
   "outputs": [
    {
     "data": {
      "text/html": [
       "<div>\n",
       "<style scoped>\n",
       "    .dataframe tbody tr th:only-of-type {\n",
       "        vertical-align: middle;\n",
       "    }\n",
       "\n",
       "    .dataframe tbody tr th {\n",
       "        vertical-align: top;\n",
       "    }\n",
       "\n",
       "    .dataframe thead th {\n",
       "        text-align: right;\n",
       "    }\n",
       "</style>\n",
       "<table border=\"1\" class=\"dataframe\">\n",
       "  <thead>\n",
       "    <tr style=\"text-align: right;\">\n",
       "      <th></th>\n",
       "      <th>year</th>\n",
       "      <th>categoria_caja</th>\n",
       "      <th>importe_negativo</th>\n",
       "    </tr>\n",
       "  </thead>\n",
       "  <tbody>\n",
       "    <tr>\n",
       "      <th>0</th>\n",
       "      <td>2023</td>\n",
       "      <td>Retiro de caja</td>\n",
       "      <td>-96082.50</td>\n",
       "    </tr>\n",
       "    <tr>\n",
       "      <th>1</th>\n",
       "      <td>2024</td>\n",
       "      <td>Retiro de caja</td>\n",
       "      <td>-25396.00</td>\n",
       "    </tr>\n",
       "    <tr>\n",
       "      <th>2</th>\n",
       "      <td>2024</td>\n",
       "      <td>Cierre Caja</td>\n",
       "      <td>-945.00</td>\n",
       "    </tr>\n",
       "    <tr>\n",
       "      <th>3</th>\n",
       "      <td>2023</td>\n",
       "      <td>Cierre Caja</td>\n",
       "      <td>-394.50</td>\n",
       "    </tr>\n",
       "    <tr>\n",
       "      <th>4</th>\n",
       "      <td>2024</td>\n",
       "      <td>Descuadre</td>\n",
       "      <td>-298.50</td>\n",
       "    </tr>\n",
       "    <tr>\n",
       "      <th>5</th>\n",
       "      <td>2023</td>\n",
       "      <td>Descuentos</td>\n",
       "      <td>-51.03</td>\n",
       "    </tr>\n",
       "    <tr>\n",
       "      <th>6</th>\n",
       "      <td>2023</td>\n",
       "      <td>Caja entregada</td>\n",
       "      <td>-28.50</td>\n",
       "    </tr>\n",
       "    <tr>\n",
       "      <th>7</th>\n",
       "      <td>2023</td>\n",
       "      <td>Descuadre</td>\n",
       "      <td>-18.50</td>\n",
       "    </tr>\n",
       "  </tbody>\n",
       "</table>\n",
       "</div>"
      ],
      "text/plain": [
       "   year  categoria_caja  importe_negativo\n",
       "0  2023  Retiro de caja         -96082.50\n",
       "1  2024  Retiro de caja         -25396.00\n",
       "2  2024     Cierre Caja           -945.00\n",
       "3  2023     Cierre Caja           -394.50\n",
       "4  2024       Descuadre           -298.50\n",
       "5  2023      Descuentos            -51.03\n",
       "6  2023  Caja entregada            -28.50\n",
       "7  2023       Descuadre            -18.50"
      ]
     },
     "execution_count": 88,
     "metadata": {},
     "output_type": "execute_result"
    }
   ],
   "source": [
    "query2_df=pd.read_sql(query2,con=conn_dw_cyber)\n",
    "query2_df"
   ]
  },
  {
   "cell_type": "code",
   "execution_count": 89,
   "metadata": {},
   "outputs": [],
   "source": [
    "#-- que mes se genero mas imgreso (importe total ) en los 2 ultimos años\n",
    "query3=\"\"\"\n",
    "select dt.year, dt.month,  sum(fm.importe_positivo)\n",
    "from dwh_lancenter.fact_movimiento_caja fm\n",
    "left join dwh_lancenter.dim_tiempo dt on (dt.fecha=fm.dim_tiempo_fecha)\n",
    "where dt.year>='2023'\n",
    "group by  dt.year, dt.month\n",
    "order by 3 desc\n",
    "\"\"\""
   ]
  },
  {
   "cell_type": "code",
   "execution_count": 90,
   "metadata": {},
   "outputs": [
    {
     "data": {
      "text/html": [
       "<div>\n",
       "<style scoped>\n",
       "    .dataframe tbody tr th:only-of-type {\n",
       "        vertical-align: middle;\n",
       "    }\n",
       "\n",
       "    .dataframe tbody tr th {\n",
       "        vertical-align: top;\n",
       "    }\n",
       "\n",
       "    .dataframe thead th {\n",
       "        text-align: right;\n",
       "    }\n",
       "</style>\n",
       "<table border=\"1\" class=\"dataframe\">\n",
       "  <thead>\n",
       "    <tr style=\"text-align: right;\">\n",
       "      <th></th>\n",
       "      <th>year</th>\n",
       "      <th>month</th>\n",
       "      <th>sum(fm.importe_positivo)</th>\n",
       "    </tr>\n",
       "  </thead>\n",
       "  <tbody>\n",
       "    <tr>\n",
       "      <th>0</th>\n",
       "      <td>2023</td>\n",
       "      <td>11</td>\n",
       "      <td>10104.00</td>\n",
       "    </tr>\n",
       "    <tr>\n",
       "      <th>1</th>\n",
       "      <td>2023</td>\n",
       "      <td>10</td>\n",
       "      <td>9254.00</td>\n",
       "    </tr>\n",
       "    <tr>\n",
       "      <th>2</th>\n",
       "      <td>2024</td>\n",
       "      <td>3</td>\n",
       "      <td>9203.00</td>\n",
       "    </tr>\n",
       "    <tr>\n",
       "      <th>3</th>\n",
       "      <td>2023</td>\n",
       "      <td>8</td>\n",
       "      <td>9166.50</td>\n",
       "    </tr>\n",
       "    <tr>\n",
       "      <th>4</th>\n",
       "      <td>2023</td>\n",
       "      <td>5</td>\n",
       "      <td>9048.00</td>\n",
       "    </tr>\n",
       "    <tr>\n",
       "      <th>5</th>\n",
       "      <td>2023</td>\n",
       "      <td>3</td>\n",
       "      <td>8881.03</td>\n",
       "    </tr>\n",
       "    <tr>\n",
       "      <th>6</th>\n",
       "      <td>2023</td>\n",
       "      <td>4</td>\n",
       "      <td>8544.50</td>\n",
       "    </tr>\n",
       "    <tr>\n",
       "      <th>7</th>\n",
       "      <td>2023</td>\n",
       "      <td>9</td>\n",
       "      <td>8072.00</td>\n",
       "    </tr>\n",
       "    <tr>\n",
       "      <th>8</th>\n",
       "      <td>2023</td>\n",
       "      <td>6</td>\n",
       "      <td>7736.50</td>\n",
       "    </tr>\n",
       "    <tr>\n",
       "      <th>9</th>\n",
       "      <td>2024</td>\n",
       "      <td>2</td>\n",
       "      <td>7330.00</td>\n",
       "    </tr>\n",
       "    <tr>\n",
       "      <th>10</th>\n",
       "      <td>2023</td>\n",
       "      <td>12</td>\n",
       "      <td>7189.50</td>\n",
       "    </tr>\n",
       "    <tr>\n",
       "      <th>11</th>\n",
       "      <td>2023</td>\n",
       "      <td>2</td>\n",
       "      <td>6831.50</td>\n",
       "    </tr>\n",
       "    <tr>\n",
       "      <th>12</th>\n",
       "      <td>2023</td>\n",
       "      <td>7</td>\n",
       "      <td>6091.00</td>\n",
       "    </tr>\n",
       "    <tr>\n",
       "      <th>13</th>\n",
       "      <td>2023</td>\n",
       "      <td>1</td>\n",
       "      <td>5656.50</td>\n",
       "    </tr>\n",
       "    <tr>\n",
       "      <th>14</th>\n",
       "      <td>2024</td>\n",
       "      <td>1</td>\n",
       "      <td>5542.00</td>\n",
       "    </tr>\n",
       "    <tr>\n",
       "      <th>15</th>\n",
       "      <td>2024</td>\n",
       "      <td>4</td>\n",
       "      <td>4677.50</td>\n",
       "    </tr>\n",
       "  </tbody>\n",
       "</table>\n",
       "</div>"
      ],
      "text/plain": [
       "    year  month  sum(fm.importe_positivo)\n",
       "0   2023     11                  10104.00\n",
       "1   2023     10                   9254.00\n",
       "2   2024      3                   9203.00\n",
       "3   2023      8                   9166.50\n",
       "4   2023      5                   9048.00\n",
       "5   2023      3                   8881.03\n",
       "6   2023      4                   8544.50\n",
       "7   2023      9                   8072.00\n",
       "8   2023      6                   7736.50\n",
       "9   2024      2                   7330.00\n",
       "10  2023     12                   7189.50\n",
       "11  2023      2                   6831.50\n",
       "12  2023      7                   6091.00\n",
       "13  2023      1                   5656.50\n",
       "14  2024      1                   5542.00\n",
       "15  2024      4                   4677.50"
      ]
     },
     "execution_count": 90,
     "metadata": {},
     "output_type": "execute_result"
    }
   ],
   "source": [
    "query3_df=pd.read_sql(query3,con=conn_dw_cyber)\n",
    "query3_df"
   ]
  },
  {
   "cell_type": "code",
   "execution_count": 93,
   "metadata": {},
   "outputs": [],
   "source": [
    "# generar reporte de importe por caterigoria caja (importe positivo) ultimo  año\n",
    "query4=\"\"\"\n",
    "select dt.year,   dc.nombre as categoria_caja, sum(fm.importe_positivo)\n",
    "from dwh_lancenter.fact_movimiento_caja fm\n",
    "left join dwh_lancenter.dim_categoriacaja dc  on (dc.idw_catcaja=fm.dim_categoriacaja_idw_catcaja)\n",
    "left join dwh_lancenter.dim_tiempo dt on (dt.fecha=fm.dim_tiempo_fecha)\n",
    "where dt.year>='2024'\n",
    "and fm.importe_positivo>0\n",
    "group by dt.year,   dc.nombre\n",
    "order by 3 desc\n",
    "\"\"\""
   ]
  },
  {
   "cell_type": "code",
   "execution_count": 92,
   "metadata": {},
   "outputs": [
    {
     "data": {
      "text/html": [
       "<div>\n",
       "<style scoped>\n",
       "    .dataframe tbody tr th:only-of-type {\n",
       "        vertical-align: middle;\n",
       "    }\n",
       "\n",
       "    .dataframe tbody tr th {\n",
       "        vertical-align: top;\n",
       "    }\n",
       "\n",
       "    .dataframe thead th {\n",
       "        text-align: right;\n",
       "    }\n",
       "</style>\n",
       "<table border=\"1\" class=\"dataframe\">\n",
       "  <thead>\n",
       "    <tr style=\"text-align: right;\">\n",
       "      <th></th>\n",
       "      <th>year</th>\n",
       "      <th>categoria_caja</th>\n",
       "      <th>sum(fm.importe_positivo)</th>\n",
       "    </tr>\n",
       "  </thead>\n",
       "  <tbody>\n",
       "    <tr>\n",
       "      <th>0</th>\n",
       "      <td>2024</td>\n",
       "      <td>Uso Libre</td>\n",
       "      <td>6440.5</td>\n",
       "    </tr>\n",
       "    <tr>\n",
       "      <th>1</th>\n",
       "      <td>2024</td>\n",
       "      <td>Productos</td>\n",
       "      <td>6388.5</td>\n",
       "    </tr>\n",
       "    <tr>\n",
       "      <th>2</th>\n",
       "      <td>2024</td>\n",
       "      <td>Cargas de abonos</td>\n",
       "      <td>5633.0</td>\n",
       "    </tr>\n",
       "    <tr>\n",
       "      <th>3</th>\n",
       "      <td>2024</td>\n",
       "      <td>Impresiones color</td>\n",
       "      <td>4059.0</td>\n",
       "    </tr>\n",
       "    <tr>\n",
       "      <th>4</th>\n",
       "      <td>2024</td>\n",
       "      <td>Carga Prepago</td>\n",
       "      <td>2555.5</td>\n",
       "    </tr>\n",
       "    <tr>\n",
       "      <th>5</th>\n",
       "      <td>2024</td>\n",
       "      <td>Impresiones BN</td>\n",
       "      <td>1201.5</td>\n",
       "    </tr>\n",
       "    <tr>\n",
       "      <th>6</th>\n",
       "      <td>2024</td>\n",
       "      <td>Servicios</td>\n",
       "      <td>400.5</td>\n",
       "    </tr>\n",
       "    <tr>\n",
       "      <th>7</th>\n",
       "      <td>2024</td>\n",
       "      <td>Ajuste por redondeo</td>\n",
       "      <td>64.5</td>\n",
       "    </tr>\n",
       "    <tr>\n",
       "      <th>8</th>\n",
       "      <td>2024</td>\n",
       "      <td>Escaneos</td>\n",
       "      <td>9.5</td>\n",
       "    </tr>\n",
       "  </tbody>\n",
       "</table>\n",
       "</div>"
      ],
      "text/plain": [
       "   year       categoria_caja  sum(fm.importe_positivo)\n",
       "0  2024            Uso Libre                    6440.5\n",
       "1  2024            Productos                    6388.5\n",
       "2  2024     Cargas de abonos                    5633.0\n",
       "3  2024    Impresiones color                    4059.0\n",
       "4  2024        Carga Prepago                    2555.5\n",
       "5  2024       Impresiones BN                    1201.5\n",
       "6  2024            Servicios                     400.5\n",
       "7  2024  Ajuste por redondeo                      64.5\n",
       "8  2024             Escaneos                       9.5"
      ]
     },
     "execution_count": 92,
     "metadata": {},
     "output_type": "execute_result"
    }
   ],
   "source": [
    "query4_df=pd.read_sql(query4,con=conn_dw_cyber)\n",
    "query4_df"
   ]
  },
  {
   "cell_type": "code",
   "execution_count": 94,
   "metadata": {},
   "outputs": [],
   "source": [
    "#cuando veces se logearon los operador por mes en el ultimo año\n",
    "query5=\"\"\"\n",
    "select dt.year, dt.month,  doper.nombre, count(distinct dim_categoriacaja_idw_catcaja) cant_logueo\n",
    "from dwh_lancenter.fact_movimiento_caja fm\n",
    "left join dwh_lancenter.dim_operador doper on (fm.dim_operador_idw_operador=doper.idw_operador)\n",
    "left join dwh_lancenter.dim_tiempo dt on (dt.fecha=fm.dim_tiempo_fecha)\n",
    "where dt.year='2024'\n",
    "group by dt.year,dt.month,   doper.nombre\n",
    "order by 2 desc\n",
    "\"\"\""
   ]
  },
  {
   "cell_type": "code",
   "execution_count": 95,
   "metadata": {},
   "outputs": [
    {
     "data": {
      "text/html": [
       "<div>\n",
       "<style scoped>\n",
       "    .dataframe tbody tr th:only-of-type {\n",
       "        vertical-align: middle;\n",
       "    }\n",
       "\n",
       "    .dataframe tbody tr th {\n",
       "        vertical-align: top;\n",
       "    }\n",
       "\n",
       "    .dataframe thead th {\n",
       "        text-align: right;\n",
       "    }\n",
       "</style>\n",
       "<table border=\"1\" class=\"dataframe\">\n",
       "  <thead>\n",
       "    <tr style=\"text-align: right;\">\n",
       "      <th></th>\n",
       "      <th>year</th>\n",
       "      <th>month</th>\n",
       "      <th>nombre</th>\n",
       "      <th>cant_logueo</th>\n",
       "    </tr>\n",
       "  </thead>\n",
       "  <tbody>\n",
       "    <tr>\n",
       "      <th>0</th>\n",
       "      <td>2024</td>\n",
       "      <td>4</td>\n",
       "      <td>Ariel</td>\n",
       "      <td>1</td>\n",
       "    </tr>\n",
       "    <tr>\n",
       "      <th>1</th>\n",
       "      <td>2024</td>\n",
       "      <td>4</td>\n",
       "      <td>Daniel21</td>\n",
       "      <td>13</td>\n",
       "    </tr>\n",
       "    <tr>\n",
       "      <th>2</th>\n",
       "      <td>2024</td>\n",
       "      <td>4</td>\n",
       "      <td>Dennis</td>\n",
       "      <td>12</td>\n",
       "    </tr>\n",
       "    <tr>\n",
       "      <th>3</th>\n",
       "      <td>2024</td>\n",
       "      <td>4</td>\n",
       "      <td>Jhessy</td>\n",
       "      <td>12</td>\n",
       "    </tr>\n",
       "    <tr>\n",
       "      <th>4</th>\n",
       "      <td>2024</td>\n",
       "      <td>4</td>\n",
       "      <td>Juan</td>\n",
       "      <td>12</td>\n",
       "    </tr>\n",
       "    <tr>\n",
       "      <th>5</th>\n",
       "      <td>2024</td>\n",
       "      <td>3</td>\n",
       "      <td>Ariel</td>\n",
       "      <td>12</td>\n",
       "    </tr>\n",
       "    <tr>\n",
       "      <th>6</th>\n",
       "      <td>2024</td>\n",
       "      <td>3</td>\n",
       "      <td>Daniel21</td>\n",
       "      <td>14</td>\n",
       "    </tr>\n",
       "    <tr>\n",
       "      <th>7</th>\n",
       "      <td>2024</td>\n",
       "      <td>3</td>\n",
       "      <td>Dennis</td>\n",
       "      <td>13</td>\n",
       "    </tr>\n",
       "    <tr>\n",
       "      <th>8</th>\n",
       "      <td>2024</td>\n",
       "      <td>3</td>\n",
       "      <td>Jhessy</td>\n",
       "      <td>13</td>\n",
       "    </tr>\n",
       "    <tr>\n",
       "      <th>9</th>\n",
       "      <td>2024</td>\n",
       "      <td>3</td>\n",
       "      <td>Juan</td>\n",
       "      <td>12</td>\n",
       "    </tr>\n",
       "    <tr>\n",
       "      <th>10</th>\n",
       "      <td>2024</td>\n",
       "      <td>3</td>\n",
       "      <td>Mary</td>\n",
       "      <td>6</td>\n",
       "    </tr>\n",
       "    <tr>\n",
       "      <th>11</th>\n",
       "      <td>2024</td>\n",
       "      <td>2</td>\n",
       "      <td>Ariel</td>\n",
       "      <td>8</td>\n",
       "    </tr>\n",
       "    <tr>\n",
       "      <th>12</th>\n",
       "      <td>2024</td>\n",
       "      <td>2</td>\n",
       "      <td>Dennis</td>\n",
       "      <td>12</td>\n",
       "    </tr>\n",
       "    <tr>\n",
       "      <th>13</th>\n",
       "      <td>2024</td>\n",
       "      <td>2</td>\n",
       "      <td>Jhessy</td>\n",
       "      <td>13</td>\n",
       "    </tr>\n",
       "    <tr>\n",
       "      <th>14</th>\n",
       "      <td>2024</td>\n",
       "      <td>2</td>\n",
       "      <td>Juan</td>\n",
       "      <td>13</td>\n",
       "    </tr>\n",
       "    <tr>\n",
       "      <th>15</th>\n",
       "      <td>2024</td>\n",
       "      <td>2</td>\n",
       "      <td>Mary</td>\n",
       "      <td>9</td>\n",
       "    </tr>\n",
       "    <tr>\n",
       "      <th>16</th>\n",
       "      <td>2024</td>\n",
       "      <td>1</td>\n",
       "      <td>Ariel</td>\n",
       "      <td>7</td>\n",
       "    </tr>\n",
       "    <tr>\n",
       "      <th>17</th>\n",
       "      <td>2024</td>\n",
       "      <td>1</td>\n",
       "      <td>Dennis</td>\n",
       "      <td>12</td>\n",
       "    </tr>\n",
       "    <tr>\n",
       "      <th>18</th>\n",
       "      <td>2024</td>\n",
       "      <td>1</td>\n",
       "      <td>Jhessy</td>\n",
       "      <td>13</td>\n",
       "    </tr>\n",
       "    <tr>\n",
       "      <th>19</th>\n",
       "      <td>2024</td>\n",
       "      <td>1</td>\n",
       "      <td>Juan</td>\n",
       "      <td>12</td>\n",
       "    </tr>\n",
       "  </tbody>\n",
       "</table>\n",
       "</div>"
      ],
      "text/plain": [
       "    year  month    nombre  cant_logueo\n",
       "0   2024      4     Ariel            1\n",
       "1   2024      4  Daniel21           13\n",
       "2   2024      4    Dennis           12\n",
       "3   2024      4    Jhessy           12\n",
       "4   2024      4      Juan           12\n",
       "5   2024      3     Ariel           12\n",
       "6   2024      3  Daniel21           14\n",
       "7   2024      3    Dennis           13\n",
       "8   2024      3    Jhessy           13\n",
       "9   2024      3      Juan           12\n",
       "10  2024      3      Mary            6\n",
       "11  2024      2     Ariel            8\n",
       "12  2024      2    Dennis           12\n",
       "13  2024      2    Jhessy           13\n",
       "14  2024      2      Juan           13\n",
       "15  2024      2      Mary            9\n",
       "16  2024      1     Ariel            7\n",
       "17  2024      1    Dennis           12\n",
       "18  2024      1    Jhessy           13\n",
       "19  2024      1      Juan           12"
      ]
     },
     "execution_count": 95,
     "metadata": {},
     "output_type": "execute_result"
    }
   ],
   "source": [
    "query5_df=pd.read_sql(query5,con=conn_dw_cyber)\n",
    "query5_df"
   ]
  }
 ],
 "metadata": {
  "kernelspec": {
   "display_name": "Python 3",
   "language": "python",
   "name": "python3"
  },
  "language_info": {
   "codemirror_mode": {
    "name": "ipython",
    "version": 3
   },
   "file_extension": ".py",
   "mimetype": "text/x-python",
   "name": "python",
   "nbconvert_exporter": "python",
   "pygments_lexer": "ipython3",
   "version": "3.12.3"
  }
 },
 "nbformat": 4,
 "nbformat_minor": 2
}
